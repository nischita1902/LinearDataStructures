{
  "nbformat": 4,
  "nbformat_minor": 0,
  "metadata": {
    "colab": {
      "provenance": []
    },
    "kernelspec": {
      "name": "python3",
      "display_name": "Python 3"
    },
    "language_info": {
      "name": "python"
    }
  },
  "cells": [
    {
      "cell_type": "code",
      "source": [
        "def tower_of_hanoi(n, source, auxiliary, target):\n",
        "    if n == 1:\n",
        "        print(f\"Disk 1 moved from {source} to {target}\")\n",
        "        return\n",
        "    tower_of_hanoi(n - 1, source, target, auxiliary)\n",
        "    print(f\"Disk {n} moved from {source} to {target}\")\n",
        "    tower_of_hanoi(n - 1, auxiliary, source, target)\n",
        "\n",
        "\n",
        "num_disks = 3\n",
        "tower_of_hanoi(num_disks, 'A', 'B', 'C')\n"
      ],
      "metadata": {
        "colab": {
          "base_uri": "https://localhost:8080/"
        },
        "id": "ad9SHfCHU4ok",
        "outputId": "53718508-c2e0-461e-a7a4-deaf9d62bbbc"
      },
      "execution_count": 6,
      "outputs": [
        {
          "output_type": "stream",
          "name": "stdout",
          "text": [
            "Disk 1 moved from A to C\n",
            "Disk 2 moved from A to B\n",
            "Disk 1 moved from C to B\n",
            "Disk 3 moved from A to C\n",
            "Disk 1 moved from B to A\n",
            "Disk 2 moved from B to C\n",
            "Disk 1 moved from A to C\n"
          ]
        }
      ]
    }
  ]
}