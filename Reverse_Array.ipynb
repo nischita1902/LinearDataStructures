{
  "nbformat": 4,
  "nbformat_minor": 0,
  "metadata": {
    "colab": {
      "provenance": []
    },
    "kernelspec": {
      "name": "python3",
      "display_name": "Python 3"
    },
    "language_info": {
      "name": "python"
    }
  },
  "cells": [
    {
      "cell_type": "code",
      "source": [
        "def reverse_array(arr):\n",
        "    left , right = 0 , len(arr) -1\n",
        "\n",
        "    while left < right:\n",
        "      arr[left], arr[right] = arr[right] , arr[left]\n",
        "      left += 1\n",
        "      right -= 1\n",
        "\n",
        "arr = [1,2,3,4,5,6]\n",
        "print(\"Orignal array is: \",arr)\n",
        "\n",
        "reverse_array(arr)\n",
        "print(\"Reversed array is: \",arr)"
      ],
      "metadata": {
        "id": "IVxivFmn5XMN",
        "outputId": "e300d930-5e1b-412e-e5e4-bb923f91b54f",
        "colab": {
          "base_uri": "https://localhost:8080/"
        }
      },
      "execution_count": 3,
      "outputs": [
        {
          "output_type": "stream",
          "name": "stdout",
          "text": [
            "Orignal array is:  [1, 2, 3, 4, 5, 6]\n",
            "Reversed array is:  [6, 5, 4, 3, 2, 1]\n"
          ]
        }
      ]
    }
  ]
}