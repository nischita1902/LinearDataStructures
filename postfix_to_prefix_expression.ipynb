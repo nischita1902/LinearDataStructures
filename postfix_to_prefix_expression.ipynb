{
  "nbformat": 4,
  "nbformat_minor": 0,
  "metadata": {
    "colab": {
      "provenance": []
    },
    "kernelspec": {
      "name": "python3",
      "display_name": "Python 3"
    },
    "language_info": {
      "name": "python"
    }
  },
  "cells": [
    {
      "cell_type": "code",
      "source": [
        "def is_operator(char):\n",
        "    return char in \"+-*/\"\n",
        "\n",
        "def postfix_to_prefix(postfix):\n",
        "     stack = []\n",
        "\n",
        "     for char in postfix:\n",
        "         if not is_operator(char):\n",
        "             stack.append(char)\n",
        "         else:\n",
        "             operand2 = stack.pop()\n",
        "             operand1 = stack.pop()\n",
        "             expression = char + operand1 + operand2\n",
        "             stack.append(expression)\n",
        "     return stack[0]\n",
        "\n",
        "postfix_expression = \"34+5*\"\n",
        "prefix_expression = postfix_to_prefix(postfix_expression)\n",
        "print(\"Prefix Expression:\", prefix_expression)\n"
      ],
      "metadata": {
        "colab": {
          "base_uri": "https://localhost:8080/"
        },
        "id": "PIGETKmdemms",
        "outputId": "28f89f87-94cd-4ea7-b330-fba77b3ac3b9"
      },
      "execution_count": 7,
      "outputs": [
        {
          "output_type": "stream",
          "name": "stdout",
          "text": [
            "Prefix Expression: *+345\n"
          ]
        }
      ]
    }
  ]
}