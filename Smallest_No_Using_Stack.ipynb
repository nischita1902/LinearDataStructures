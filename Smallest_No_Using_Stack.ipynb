{
  "nbformat": 4,
  "nbformat_minor": 0,
  "metadata": {
    "colab": {
      "provenance": []
    },
    "kernelspec": {
      "name": "python3",
      "display_name": "Python 3"
    },
    "language_info": {
      "name": "python"
    }
  },
  "cells": [
    {
      "cell_type": "code",
      "source": [
        "class Stack:\n",
        "    def __init__(self):\n",
        "        self.items = []\n",
        "\n",
        "    def push(self, item):\n",
        "        self.items.append(item)\n",
        "\n",
        "    def pop(self):\n",
        "        if not self.is_empty():\n",
        "            return self.items.pop()\n",
        "        else:\n",
        "            return None\n",
        "\n",
        "    def peek(self):\n",
        "        if not self.is_empty():\n",
        "            return self.items[-1]\n",
        "        else:\n",
        "            return None\n",
        "\n",
        "    def is_empty(self):\n",
        "        return len(self.items) == 0\n",
        "\n",
        "    def size(self):\n",
        "        return len(self.items)\n",
        "\n",
        "\n",
        "def find_smallest(stack):\n",
        "    if stack.is_empty():\n",
        "        return None\n",
        "\n",
        "    smallest = stack.pop()\n",
        "    if not stack.is_empty():\n",
        "        temp = find_smallest(stack)\n",
        "        if temp < smallest:\n",
        "            stack.push(smallest)\n",
        "            smallest = temp\n",
        "        else:\n",
        "            stack.push(temp)\n",
        "    return smallest\n",
        "\n",
        "\n",
        "if __name__ == \"__main__\":\n",
        "    my_stack = Stack()\n",
        "    my_stack.push(5)\n",
        "    my_stack.push(3)\n",
        "    my_stack.push(8)\n",
        "    my_stack.push(1)\n",
        "    my_stack.push(10)\n",
        "\n",
        "    print(\"Original Stack:\", my_stack.items)\n",
        "    smallest = find_smallest(my_stack)\n",
        "    print(\"Smallest number in the Stack:\", smallest)\n"
      ],
      "metadata": {
        "colab": {
          "base_uri": "https://localhost:8080/"
        },
        "id": "EcFMRfyhkNq3",
        "outputId": "372bd95f-9d67-4eeb-8441-9540a3178c39"
      },
      "execution_count": 2,
      "outputs": [
        {
          "output_type": "stream",
          "name": "stdout",
          "text": [
            "Original Stack: [5, 3, 8, 1, 10]\n",
            "Smallest number in the Stack: 1\n"
          ]
        }
      ]
    }
  ]
}