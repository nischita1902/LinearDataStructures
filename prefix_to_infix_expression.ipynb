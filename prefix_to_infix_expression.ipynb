{
  "nbformat": 4,
  "nbformat_minor": 0,
  "metadata": {
    "colab": {
      "provenance": []
    },
    "kernelspec": {
      "name": "python3",
      "display_name": "Python 3"
    },
    "language_info": {
      "name": "python"
    }
  },
  "cells": [
    {
      "cell_type": "code",
      "source": [
        "def is_operator(char):\n",
        "    return char in \"+-*/\"\n",
        "\n",
        "def prefix_to_infix(prefix):\n",
        "    stack = []\n",
        "\n",
        "    for char in reversed(prefix):\n",
        "        if not is_operator(char):\n",
        "            stack.append(char)\n",
        "        else:\n",
        "            operand1 = stack.pop()\n",
        "            operand2 = stack.pop()\n",
        "            expression = f\"({operand1}{char}{operand2})\"\n",
        "            stack.append(expression)\n",
        "\n",
        "    return stack[0]\n",
        "\n",
        "\n",
        "prefix_expression = \"*+AB-CD\"\n",
        "infix_expression = prefix_to_infix(prefix_expression)\n",
        "print(\"Infix Expression:\", infix_expression)\n"
      ],
      "metadata": {
        "colab": {
          "base_uri": "https://localhost:8080/"
        },
        "id": "0WEXXKoO3jXq",
        "outputId": "8bc17377-df54-4645-9c10-ffe4391878f6"
      },
      "execution_count": 8,
      "outputs": [
        {
          "output_type": "stream",
          "name": "stdout",
          "text": [
            "Infix Expression: ((A+B)*(C-D))\n"
          ]
        }
      ]
    }
  ]
}