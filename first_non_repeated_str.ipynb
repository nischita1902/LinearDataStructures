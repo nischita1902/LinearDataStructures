{
  "nbformat": 4,
  "nbformat_minor": 0,
  "metadata": {
    "colab": {
      "provenance": []
    },
    "kernelspec": {
      "name": "python3",
      "display_name": "Python 3"
    },
    "language_info": {
      "name": "python"
    }
  },
  "cells": [
    {
      "cell_type": "code",
      "source": [
        "def non_repeated_char(s):\n",
        "     char_count = {}\n",
        "\n",
        "     for char in s:\n",
        "         if char in char_count:\n",
        "              char_count[char] += 1\n",
        "         else:\n",
        "              char_count[char] = 1\n",
        "\n",
        "     for char in s:\n",
        "         if char_count[char] == 1:\n",
        "             return char\n",
        "\n",
        "     return None\n",
        "\n",
        "string = \"abcdbe\"\n",
        "\n",
        "result = non_repeated_char(string)\n",
        "\n",
        "if result:\n",
        "     print(f\"The first non-repeated character is : {result}\")\n",
        "\n",
        "else:\n",
        "    print(f\"There iis no-repeated character in the string.\")"
      ],
      "metadata": {
        "colab": {
          "base_uri": "https://localhost:8080/"
        },
        "id": "sQMJ0ygMSX1k",
        "outputId": "974ddee8-5100-4c59-90d8-6c1ad66b3d20"
      },
      "execution_count": 5,
      "outputs": [
        {
          "output_type": "stream",
          "name": "stdout",
          "text": [
            "The first non-repeated character is : a\n"
          ]
        }
      ]
    }
  ]
}