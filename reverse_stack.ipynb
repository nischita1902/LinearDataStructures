{
  "nbformat": 4,
  "nbformat_minor": 0,
  "metadata": {
    "colab": {
      "provenance": []
    },
    "kernelspec": {
      "name": "python3",
      "display_name": "Python 3"
    },
    "language_info": {
      "name": "python"
    }
  },
  "cells": [
    {
      "cell_type": "code",
      "source": [
        "class Stack:\n",
        "    def __init__(self):\n",
        "        self.items = []\n",
        "\n",
        "    def push(self, item):\n",
        "        self.items.append(item)\n",
        "\n",
        "    def pop(self):\n",
        "        if not self.is_empty():\n",
        "            return self.items.pop()\n",
        "        else:\n",
        "            return None\n",
        "\n",
        "    def peek(self):\n",
        "        if not self.is_empty():\n",
        "            return self.items[-1]\n",
        "        else:\n",
        "            return None\n",
        "\n",
        "    def is_empty(self):\n",
        "        return len(self.items) == 0\n",
        "\n",
        "    def size(self):\n",
        "        return len(self.items)\n",
        "\n",
        "\n",
        "def reverse_stack(stack):\n",
        "    if not stack.is_empty():\n",
        "        temp = stack.pop()\n",
        "        reverse_stack(stack)\n",
        "        insert_at_bottom(stack, temp)\n",
        "\n",
        "\n",
        "def insert_at_bottom(stack, item):\n",
        "    if stack.is_empty():\n",
        "        stack.push(item)\n",
        "    else:\n",
        "        temp = stack.pop()\n",
        "        insert_at_bottom(stack, item)\n",
        "        stack.push(temp)\n",
        "\n",
        "\n",
        "if __name__ == \"__main__\":\n",
        "    my_stack = Stack()\n",
        "    my_stack.push(1)\n",
        "    my_stack.push(2)\n",
        "    my_stack.push(3)\n",
        "    my_stack.push(4)\n",
        "\n",
        "    print(\"Original Stack is:\", my_stack.items)\n",
        "    reverse_stack(my_stack)\n",
        "    print(\"Reversed Stack is:\", my_stack.items)\n"
      ],
      "metadata": {
        "colab": {
          "base_uri": "https://localhost:8080/"
        },
        "id": "Va-ADqEBB4GC",
        "outputId": "d57207a8-952e-442f-af79-984de0dffc97"
      },
      "execution_count": 1,
      "outputs": [
        {
          "output_type": "stream",
          "name": "stdout",
          "text": [
            "Original Stack is: [1, 2, 3, 4]\n",
            "Reversed Stack is: [4, 3, 2, 1]\n"
          ]
        }
      ]
    }
  ]
}