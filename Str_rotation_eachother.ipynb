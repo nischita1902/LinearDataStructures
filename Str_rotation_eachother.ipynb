{
  "nbformat": 4,
  "nbformat_minor": 0,
  "metadata": {
    "colab": {
      "provenance": []
    },
    "kernelspec": {
      "name": "python3",
      "display_name": "Python 3"
    },
    "language_info": {
      "name": "python"
    }
  },
  "cells": [
    {
      "cell_type": "code",
      "source": [
        "def rotation(str1, str2):\n",
        "    if len(str1) != len(str2):\n",
        "        return False\n",
        "    temp = str1 + str1\n",
        "    if str2 in temp:\n",
        "        return True\n",
        "    return False\n",
        "\n",
        "string1 = \"abcdef\"\n",
        "string2 = \"defabc\"\n",
        "\n",
        "if rotation(string1, string2):\n",
        "    print(\"Strings are rotations of each other.\")\n",
        "\n",
        "else:\n",
        "    print(\"Strings are not rotations of each other.\")"
      ],
      "metadata": {
        "colab": {
          "base_uri": "https://localhost:8080/"
        },
        "id": "muF7IkBgQElf",
        "outputId": "5e829fe8-6002-4907-b125-1fc9d715568b"
      },
      "execution_count": 4,
      "outputs": [
        {
          "output_type": "stream",
          "name": "stdout",
          "text": [
            "Strings are rotations of each other.\n"
          ]
        }
      ]
    }
  ]
}