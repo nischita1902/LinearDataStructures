{
  "nbformat": 4,
  "nbformat_minor": 0,
  "metadata": {
    "colab": {
      "provenance": []
    },
    "kernelspec": {
      "name": "python3",
      "display_name": "Python 3"
    },
    "language_info": {
      "name": "python"
    }
  },
  "cells": [
    {
      "cell_type": "code",
      "execution_count": 1,
      "metadata": {
        "colab": {
          "base_uri": "https://localhost:8080/"
        },
        "id": "f2BFcI_jsB-z",
        "outputId": "57bb12ad-c098-4abc-e06b-156156d00ab8"
      },
      "outputs": [
        {
          "output_type": "stream",
          "name": "stdout",
          "text": [
            "Pairs with sum 10: [(7, 3), (9, 1)]\n"
          ]
        }
      ],
      "source": [
        "def find_pairs_with_sum(arr, target_sum):\n",
        "    pairs = []\n",
        "    seen = set()\n",
        "\n",
        "    for num in arr:\n",
        "        complement = target_sum - num\n",
        "        if complement in seen:\n",
        "            pairs.append((num, complement))\n",
        "        seen.add(num)\n",
        "\n",
        "    return pairs\n",
        "\n",
        "arr = [2, 4, 3, 7, 1, 5, 9]\n",
        "target_sum = 10\n",
        "result = find_pairs_with_sum(arr, target_sum)\n",
        "\n",
        "print(f\"Pairs with sum {target_sum}: {result}\")\n"
      ]
    }
  ]
}