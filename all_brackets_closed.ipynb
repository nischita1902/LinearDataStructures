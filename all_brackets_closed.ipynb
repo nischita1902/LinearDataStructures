{
  "nbformat": 4,
  "nbformat_minor": 0,
  "metadata": {
    "colab": {
      "provenance": []
    },
    "kernelspec": {
      "name": "python3",
      "display_name": "Python 3"
    },
    "language_info": {
      "name": "python"
    }
  },
  "cells": [
    {
      "cell_type": "code",
      "source": [
        "def are_brackets_balanced(code):\n",
        "    stack = []\n",
        "    bracket_pairs = {')': '(', '}': '{', ']': '['}\n",
        "\n",
        "    for char in code:\n",
        "        if char in '({[':\n",
        "            stack.append(char)\n",
        "        elif char in ')}]':\n",
        "            if not stack or stack[-1] != bracket_pairs[char]:\n",
        "                return False\n",
        "            stack.pop()\n",
        "\n",
        "    return not stack\n",
        "\n",
        "\n",
        "code_snippet = \"(a + b) * [c - {d / e}]\"\n",
        "if are_brackets_balanced(code_snippet):\n",
        "    print(\"All brackets are properly closed.\")\n",
        "else:\n",
        "    print(\"Brackets are not properly closed.\")\n"
      ],
      "metadata": {
        "colab": {
          "base_uri": "https://localhost:8080/"
        },
        "id": "b-iBZ5-GAUMj",
        "outputId": "0ff639d6-b1fd-412f-fec5-f5f1e2ebfbf5"
      },
      "execution_count": 9,
      "outputs": [
        {
          "output_type": "stream",
          "name": "stdout",
          "text": [
            "All brackets are properly closed.\n"
          ]
        }
      ]
    }
  ]
}